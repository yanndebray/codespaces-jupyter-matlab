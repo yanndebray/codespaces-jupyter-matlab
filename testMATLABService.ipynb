{
 "cells": [
  {
   "cell_type": "markdown",
   "metadata": {},
   "source": [
    "# Create and test a MATLAB service\n",
    "\n",
    "Resources:\n",
    "- [Call User-Defined Function with MATLAB REST Function Services](https://www.mathworks.com/help/matlab/matlab_external/get-started-with-matlab-rest-function-service.html)\n",
    "- [Create MATLAB REST Function Services](https://www.mathworks.com/help/matlab/matlab_external/create-matlab-rest-function-services.html)"
   ]
  },
  {
   "cell_type": "markdown",
   "metadata": {},
   "source": [
    "## Create function connector\n",
    "https://www.mathworks.com/help/matlab/ref/matlab.engine.rest.restfunctionconnector.html"
   ]
  },
  {
   "cell_type": "code",
   "execution_count": 2,
   "metadata": {},
   "outputs": [
    {
     "name": "stderr",
     "output_type": "stream",
     "text": [
      "Error using restFunctionConnector\n",
      "Unable to find connector client."
     ]
    }
   ],
   "source": [
    "conn = restFunctionConnector"
   ]
  },
  {
   "cell_type": "markdown",
   "metadata": {},
   "source": [
    "## Create Service for calling MATLAB functions from client applications\n",
    "\n",
    "https://www.mathworks.com/help/matlab/ref/matlab.engine.rest.restfunctionservice.html"
   ]
  },
  {
   "cell_type": "code",
   "execution_count": 1,
   "metadata": {},
   "outputs": [
    {
     "name": "stderr",
     "output_type": "stream",
     "text": [
      "Error using restFunctionService\n",
      "Unable to find connector client."
     ]
    }
   ],
   "source": [
    "myService = restFunctionService(\"TestService\",\"mySqrt\")"
   ]
  }
 ],
 "metadata": {
  "kernelspec": {
   "display_name": "MATLAB Kernel",
   "language": "matlab",
   "name": "jupyter_matlab_kernel"
  },
  "language_info": {
   "file_extension": ".m",
   "mimetype": "text/x-matlab",
   "name": "matlab"
  }
 },
 "nbformat": 4,
 "nbformat_minor": 2
}

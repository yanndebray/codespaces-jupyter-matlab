{
 "cells": [
  {
   "cell_type": "markdown",
   "metadata": {},
   "source": [
    "# Crypto price prediction\n",
    "\n",
    "Read more here: https://github.com/yanndebray/matlab-with-python-book/blob/main/4_Call_Python_from_MATLAB.md"
   ]
  },
  {
   "cell_type": "markdown",
   "metadata": {},
   "source": [
    "## Call Coinbase API"
   ]
  },
  {
   "cell_type": "code",
   "execution_count": 2,
   "metadata": {},
   "outputs": [
    {
     "data": {
      "text/html": [
       "<html><body><pre>ans = \n",
       "  PythonEnvironment with properties:\n",
       "\n",
       "          Version: \"3.10\"\n",
       "       Executable: \"C:\\Users\\ydebray\\AppData\\Local\\Programs\\Python\\Python310\\python.exe\"\n",
       "          Library: \"C:\\Users\\ydebray\\AppData\\Local\\Programs\\Python\\Python310\\python310.dll\"\n",
       "             Home: \"C:\\Users\\ydebray\\AppData\\Local\\Programs\\Python\\Python310\"\n",
       "           Status: NotLoaded\n",
       "    ExecutionMode: OutOfProcess\n",
       "</pre></body></html>"
      ],
      "text/plain": [
       "ans = \n",
       "  PythonEnvironment with properties:\n",
       "\n",
       "          Version: \"3.10\"\n",
       "       Executable: \"C:\\Users\\ydebray\\AppData\\Local\\Programs\\Python\\Python310\\python.exe\"\n",
       "          Library: \"C:\\Users\\ydebray\\AppData\\Local\\Programs\\Python\\Python310\\python310.dll\"\n",
       "             Home: \"C:\\Users\\ydebray\\AppData\\Local\\Programs\\Python\\Python310\"\n",
       "           Status: NotLoaded\n",
       "    ExecutionMode: OutOfProcess\n"
      ]
     },
     "execution_count": 2,
     "metadata": {},
     "output_type": "execute_result"
    }
   ],
   "source": [
    "pyenv"
   ]
  },
  {
   "cell_type": "code",
   "execution_count": 4,
   "metadata": {},
   "outputs": [
    {
     "data": {
      "text/html": [
       "<html><body><pre>urlparts = \n",
       "  Python ParseResult with properties:\n",
       "\n",
       "    fragment: [1×0 py.str]\n",
       "    hostname: [1×16 py.str]\n",
       "      netloc: [1×16 py.str]\n",
       "      params: [1×0 py.str]\n",
       "    password: [1×1 py.NoneType]\n",
       "        path: [1×23 py.str]\n",
       "        port: [1×1 py.NoneType]\n",
       "       query: [1×0 py.str]\n",
       "      scheme: [1×5 py.str]\n",
       "    username: [1×1 py.NoneType]\n",
       "\n",
       "    ParseResult(scheme='https', netloc='api.coinbase.com', path='/v2/prices/BTC-USD/spot', params='', query='', fragment='')\n",
       "</pre></body></html>"
      ],
      "text/plain": [
       "urlparts = \n",
       "  Python ParseResult with properties:\n",
       "\n",
       "    fragment: [1×0 py.str]\n",
       "    hostname: [1×16 py.str]\n",
       "      netloc: [1×16 py.str]\n",
       "      params: [1×0 py.str]\n",
       "    password: [1×1 py.NoneType]\n",
       "        path: [1×23 py.str]\n",
       "        port: [1×1 py.NoneType]\n",
       "       query: [1×0 py.str]\n",
       "      scheme: [1×5 py.str]\n",
       "    username: [1×1 py.NoneType]\n",
       "\n",
       "    ParseResult(scheme='https', netloc='api.coinbase.com', path='/v2/prices/BTC-USD/spot', params='', query='', fragment='')\n"
      ]
     },
     "execution_count": 4,
     "metadata": {},
     "output_type": "execute_result"
    }
   ],
   "source": [
    "url = \"https://api.coinbase.com/v2/prices/BTC-USD/spot\";\n",
    "urlparts = py.urllib.parse.urlparse(url)"
   ]
  },
  {
   "cell_type": "code",
   "execution_count": 5,
   "metadata": {},
   "outputs": [
    {
     "data": {
      "text/html": [
       "<html><body><pre>domain = \n",
       "  Python str with no properties.\n",
       "\n",
       "    api.coinbase.com\n",
       "</pre></body></html>"
      ],
      "text/plain": [
       "domain = \n",
       "  Python str with no properties.\n",
       "\n",
       "    api.coinbase.com\n"
      ]
     },
     "execution_count": 5,
     "metadata": {},
     "output_type": "execute_result"
    }
   ],
   "source": [
    "domain = urlparts.netloc"
   ]
  },
  {
   "cell_type": "markdown",
   "metadata": {},
   "source": [
    "Same in pure MATLAB"
   ]
  },
  {
   "cell_type": "code",
   "execution_count": 8,
   "metadata": {},
   "outputs": [
    {
     "data": {
      "text/html": [
       "<html><body><pre>btc_price = struct with fields:\n",
       "      amount: '64610.07'\n",
       "        base: 'BTC'\n",
       "    currency: 'USD'\n",
       "</pre></body></html>"
      ],
      "text/plain": [
       "btc_price = struct with fields:\n",
       "      amount: '64610.07'\n",
       "        base: 'BTC'\n",
       "    currency: 'USD'\n"
      ]
     },
     "execution_count": 8,
     "metadata": {},
     "output_type": "execute_result"
    }
   ],
   "source": [
    "btc_price = webread(url).data"
   ]
  },
  {
   "cell_type": "markdown",
   "metadata": {},
   "source": [
    "## Call Python library for historical price"
   ]
  },
  {
   "cell_type": "code",
   "execution_count": 11,
   "metadata": {},
   "outputs": [],
   "source": [
    "% Move into the right directory\n",
    "cd(\"notebooks/Exercise 4/\")"
   ]
  },
  {
   "cell_type": "code",
   "execution_count": 12,
   "metadata": {},
   "outputs": [
    {
     "name": "stdout",
     "output_type": "stream",
     "text": [
      " WEBSAVE Save content from RESTful web service to file\n",
      " \n",
      "    Syntax\n",
      "    ------\n",
      "    OUTFILENAME = WEBSAVE(FILENAME,URL)\n",
      "    OUTFILENAME = WEBSAVE(FILENAME,URL,QueryName1,QueryValue1, ...)\n",
      "    OUTFILENAME = WEBSAVE(__,OPTIONS)\n",
      " \n",
      "    Description\n",
      "    ------------\n",
      "    OUTFILENAME = WEBSAVE(FILENAME,URL) saves content from the web service\n",
      "    specified by the string URL to the file FILENAME. If URL indicates a\n",
      "    file, and FILENAME does not contain the same extension, then the\n",
      "    extension of URL is appended to FILENAME. WEBSAVE returns the resultant\n",
      "    name in the string OUTFILENAME, which also includes the full path to\n",
      "    the file. WEBSAVE sets HTTP request parameters with the default\n",
      "    property values of WEBOPTIONS and uses the HTTP GET method to read\n",
      "    content from URL.\n",
      " \n",
      "    OUTFILENAME = WEBSAVE(FILENAME,URL,QueryName1,QueryValue1, ...) appends\n",
      "    additional RESTful web service query parameters, specified by QueryName1,\n",
      "    QueryValue1, ..., to URL. These name,value pair arguments set query\n",
      "    parameters in an HTTP GET operation. The parameters supported by a web\n",
      "    service are defined in the service's documentation. WEBSAVE adds parameters\n",
      "    to URL using the \"&name=value\" construct. However, if URL does not contain a\n",
      "    \"?\" character, then WEBSAVE adds the first name, value pair as\n",
      "    \"?name=value\". WEBSAVE still adds all following parameters as \"&name=value\".\n",
      "    Numeric and logical values are encoded as strings using NUM2STR. Nonscalar\n",
      "    values are encoded as specified by the default ArrayFormat property of WEBOPTIONS.\n",
      " \n",
      "    OUTFILENAME = WEBSAVE(__,OPTIONS) sets HTTP request parameters with the property\n",
      "    values of the scalar WEBOPTIONS object OPTIONS. Set the RequestMethod\n",
      "    property of OPTIONS to 'post' or some other method if you need to use a\n",
      "    method other than GET when reading data from a RESTful web service.\n",
      "    Changing the RequestMethod does not affect where the query parameters are\n",
      "    placed: they always are appended to the URL.  To place parameters in the\n",
      "    body of the message, use WEBWRITE.\n",
      " \n",
      "    Input Arguments\n",
      "    ---------------\n",
      " \n",
      "    Name          Description                             Data Type\n",
      "    ----      --------------------                        ---------\n",
      "    FILENAME  \n",
      "          Name of file to save content.                   string\n",
      " \n",
      "    URL   Web address of content including the            string\n",
      "          transfer protocol, http or https. \n",
      "          The URL is automatically encoded.\n",
      " \n",
      "    QueryName\n",
      "          Name of additional web service parameter        string\n",
      "          to append to URL.\n",
      " \n",
      "    QueryValue \n",
      "          Value of additional web service parameter       string; vector of\n",
      "          to append to URL.  If you specify a datetime    numeric, logical\n",
      "          you must specify its Format property as         or datetime; 2-D \n",
      "          expected by the web service.  If it is a        array of char; or\n",
      "          non-scalar vector or cell vector, or char       cell array containing\n",
      "          array with more than one row, the value is      strings or numeric,\n",
      "          processed according to the ArrayFormat property logical or datetime\n",
      "          of WEBOPTIONS.                                  scalars\n",
      " \n",
      "    OPTIONS \n",
      "          Other options used to connect to web            scalar WEBOPTIONS \n",
      "          service.                                        object\n",
      " \n",
      "    % Example 1\n",
      "    % ---------\n",
      "    % Download the HTML page on the MATLAB(R) Central File Exchange that\n",
      "    % lists submissions for sensor-data-acquisition to a file.\n",
      "    url = 'https://www.mathworks.com/matlabcentral/fileexchange';\n",
      "    searchTerm = 'sensor-data-acquisition';\n",
      "    filename = [searchTerm '.html'];\n",
      "    websave(filename,url,'term',searchTerm);\n",
      " \n",
      "    See also DATETIME, WEBOPTIONS, WEBREAD, WEBWRITE\n",
      "\n",
      "    Documentation for websave\n",
      "       doc websave\n",
      "\n",
      "\n"
     ]
    }
   ],
   "source": [
    "help websave"
   ]
  },
  {
   "cell_type": "code",
   "execution_count": 13,
   "metadata": {},
   "outputs": [
    {
     "data": {
      "text/html": [
       "<html><body><pre>ans = 'C:\\Users\\ydebray\\Downloads\\codespaces-jupyter-matlab\\notebooks\\Exercise 4\\dataLib.py'</pre></body></html>"
      ],
      "text/plain": [
       "ans = 'C:\\Users\\ydebray\\Downloads\\codespaces-jupyter-matlab\\notebooks\\Exercise 4\\dataLib.py'"
      ]
     },
     "execution_count": 13,
     "metadata": {},
     "output_type": "execute_result"
    }
   ],
   "source": [
    "websave(\"dataLib.py\",\"https://raw.githubusercontent.com/yanndebray/matlab-with-python-book/main/code/dataLib.py\")"
   ]
  },
  {
   "cell_type": "code",
   "execution_count": null,
   "metadata": {},
   "outputs": [],
   "source": [
    "startDate = '2022-01-21T12:00:00Z';\n",
    "stopDate = '2022-01-21T17:00:00Z';\n",
    "jsonData = py.dataLib.getPriceData(\"ETH\", startDate, stopDate);"
   ]
  },
  {
   "cell_type": "code",
   "execution_count": 21,
   "metadata": {},
   "outputs": [],
   "source": [
    "data = py.dataLib.parseJson(jsonData, [0,4]);"
   ]
  },
  {
   "cell_type": "code",
   "execution_count": 20,
   "metadata": {},
   "outputs": [],
   "source": [
    "priceData = data{1}; \n",
    "priceData = double(priceData);\n",
    "columnNames = data{2};\n",
    "columnNames = string(columnNames);"
   ]
  },
  {
   "cell_type": "code",
   "execution_count": 24,
   "metadata": {},
   "outputs": [
    {
     "name": "stdout",
     "output_type": "stream",
     "text": [
      "            Date            Close \n",
      "    ____________________    ______\n",
      "\n",
      "    21-Jan-2022 12:00:00    2807.3\n",
      "    21-Jan-2022 11:59:00    2810.8\n",
      "    21-Jan-2022 11:58:00    2805.1\n",
      "    21-Jan-2022 11:57:00    2807.1\n",
      "    21-Jan-2022 11:56:00    2805.1\n",
      "    21-Jan-2022 11:55:00    2802.8\n",
      "    21-Jan-2022 11:54:00    2798.4\n",
      "    21-Jan-2022 11:53:00    2798.3\n",
      "\n"
     ]
    }
   ],
   "source": [
    "data = array2table(priceData, 'VariableNames', columnNames);\n",
    "data.Date = datetime(data.Date, 'ConvertFrom', 'posixtime', 'TimeZone', 'America/New_York');\n",
    "head(data)"
   ]
  },
  {
   "cell_type": "code",
   "execution_count": 25,
   "metadata": {},
   "outputs": [
    {
     "data": {
      "text/html": [
       "<html><head><style>.mwBasicVariableOutputWrapper .mwBasicVariableOutputHeader {font-style: italic;}</style></head><body><div class='mwBasicVariableOutputWrapper'><div>ans = <span class='mwBasicVariableOutputHeader'>10×2 table</span></div><table><thead><tr><th>Date</th><th>Close</th></tr></thead><tbody><tr><td>21-Jan-2022 12:00:00</td><td>2.8073e+03</td></tr><tr><td>21-Jan-2022 11:59:00</td><td>2.8108e+03</td></tr><tr><td>21-Jan-2022 11:58:00</td><td>2.8051e+03</td></tr><tr><td>21-Jan-2022 11:57:00</td><td>2.8071e+03</td></tr><tr><td>21-Jan-2022 11:56:00</td><td>2.8051e+03</td></tr><tr><td>21-Jan-2022 11:55:00</td><td>2.8028e+03</td></tr><tr><td>21-Jan-2022 11:54:00</td><td>2.7984e+03</td></tr><tr><td>21-Jan-2022 11:53:00</td><td>2.7983e+03</td></tr><tr><td>21-Jan-2022 11:52:00</td><td>2.8062e+03</td></tr><tr><td>21-Jan-2022 11:51:00</td><td>2.8054e+03</td></tr></tbody></table></div></body></html>"
      ],
      "text/plain": [
       "<html><head><style>.mwBasicVariableOutputWrapper .mwBasicVariableOutputHeader {font-style: italic;}</style></head><body><div class='mwBasicVariableOutputWrapper'><div>ans = <span class='mwBasicVariableOutputHeader'>10×2 table</span></div><table><thead><tr><th>Date</th><th>Close</th></tr></thead><tbody><tr><td>21-Jan-2022 12:00:00</td><td>2.8073e+03</td></tr><tr><td>21-Jan-2022 11:59:00</td><td>2.8108e+03</td></tr><tr><td>21-Jan-2022 11:58:00</td><td>2.8051e+03</td></tr><tr><td>21-Jan-2022 11:57:00</td><td>2.8071e+03</td></tr><tr><td>21-Jan-2022 11:56:00</td><td>2.8051e+03</td></tr><tr><td>21-Jan-2022 11:55:00</td><td>2.8028e+03</td></tr><tr><td>21-Jan-2022 11:54:00</td><td>2.7984e+03</td></tr><tr><td>21-Jan-2022 11:53:00</td><td>2.7983e+03</td></tr><tr><td>21-Jan-2022 11:52:00</td><td>2.8062e+03</td></tr><tr><td>21-Jan-2022 11:51:00</td><td>2.8054e+03</td></tr></tbody></table></div></body></html>"
      ]
     },
     "execution_count": 25,
     "metadata": {},
     "output_type": "execute_result"
    }
   ],
   "source": [
    "data([1:10],:)"
   ]
  },
  {
   "cell_type": "code",
   "execution_count": null,
   "metadata": {},
   "outputs": [],
   "source": [
    "plot(data.Date, data.Close)"
   ]
  }
 ],
 "metadata": {
  "kernelspec": {
   "display_name": "MATLAB Kernel",
   "language": "matlab",
   "name": "jupyter_matlab_kernel"
  },
  "language_info": {
   "file_extension": ".m",
   "mimetype": "text/x-matlab",
   "name": "matlab"
  }
 },
 "nbformat": 4,
 "nbformat_minor": 2
}

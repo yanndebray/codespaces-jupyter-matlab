{
 "cells": [
  {
   "cell_type": "markdown",
   "id": "fdd83544",
   "metadata": {},
   "source": [
    "# Artic Sea Ice Analysis"
   ]
  },
  {
   "cell_type": "markdown",
   "id": "5ada77a6",
   "metadata": {},
   "source": [
    "Global temperature increase has been proposed as the cause of several deleterious climatological and weather effects. One such effect is the decline of Arctic sea ice. Sea ice decline has several ramifications, including sea level rise and decreased albedo in regions where ice used to exist (albedo is the fraction of light reflected by a surface). \n",
    "\n",
    "The data is from the Sea Ice Index, Version 3, courtesy of the National Snow and Ice Data Center (NSIDC). This data is freely available from the NSIDC and can be downloaded here: https://nsidc.org/data/G02135/versions/3\n",
    "\n",
    "To illustrate if there is a long-term trend present in Artic sea ice extent, let's analyze the sea ice extent during September of each year. "
   ]
  },
  {
   "cell_type": "code",
   "execution_count": 2,
   "id": "cdf01f77-b975-4131-ae86-7a071cd49b3e",
   "metadata": {},
   "outputs": [
    {
     "name": "stdout",
     "output_type": "stream",
     "text": [
      "Defaulting to user installation because normal site-packages is not writeable\n",
      "Collecting opencv-python\n",
      "  Downloading opencv_python-4.10.0.84-cp37-abi3-manylinux_2_17_x86_64.manylinux2014_x86_64.whl.metadata (20 kB)\n",
      "Collecting numpy\n",
      "  Downloading numpy-2.0.1-cp310-cp310-manylinux_2_17_x86_64.manylinux2014_x86_64.whl.metadata (60 kB)\n",
      "Collecting pillow\n",
      "  Downloading pillow-10.4.0-cp310-cp310-manylinux_2_28_x86_64.whl.metadata (9.2 kB)\n",
      "Downloading opencv_python-4.10.0.84-cp37-abi3-manylinux_2_17_x86_64.manylinux2014_x86_64.whl (62.5 MB)\n",
      "\u001b[2K   \u001b[90m━━━━━━━━━━━━━━━━━━━━━━━━━━━━━━━━━━━━━━━━\u001b[0m \u001b[32m62.5/62.5 MB\u001b[0m \u001b[31m99.8 MB/s\u001b[0m eta \u001b[36m0:00:00\u001b[0m:00:01\u001b[0m00:01\u001b[0m\n",
      "\u001b[?25hDownloading numpy-2.0.1-cp310-cp310-manylinux_2_17_x86_64.manylinux2014_x86_64.whl (19.5 MB)\n",
      "\u001b[2K   \u001b[90m━━━━━━━━━━━━━━━━━━━━━━━━━━━━━━━━━━━━━━━━\u001b[0m \u001b[32m19.5/19.5 MB\u001b[0m \u001b[31m95.9 MB/s\u001b[0m eta \u001b[36m0:00:00\u001b[0m:00:01\u001b[0m\n",
      "\u001b[?25hDownloading pillow-10.4.0-cp310-cp310-manylinux_2_28_x86_64.whl (4.5 MB)\n",
      "\u001b[2K   \u001b[90m━━━━━━━━━━━━━━━━━━━━━━━━━━━━━━━━━━━━━━━━\u001b[0m \u001b[32m4.5/4.5 MB\u001b[0m \u001b[31m58.8 MB/s\u001b[0m eta \u001b[36m0:00:00\u001b[0m\n",
      "\u001b[?25hInstalling collected packages: pillow, numpy, opencv-python\n",
      "\u001b[33m  WARNING: The scripts f2py and numpy-config are installed in '/home/vscode/.local/bin' which is not on PATH.\n",
      "  Consider adding this directory to PATH or, if you prefer to suppress this warning, use --no-warn-script-location.\u001b[0m\u001b[33m\n",
      "\u001b[0mSuccessfully installed numpy-2.0.1 opencv-python-4.10.0.84 pillow-10.4.0\n",
      "Note: you may need to restart the kernel to use updated packages.\n"
     ]
    }
   ],
   "source": [
    "%pip install opencv-python numpy pillow"
   ]
  },
  {
   "cell_type": "code",
   "execution_count": 3,
   "id": "0f44414b",
   "metadata": {},
   "outputs": [],
   "source": [
    "import cv2 as cv\n",
    "import os\n",
    "import numpy as np\n",
    "import glob\n",
    "from PIL import Image"
   ]
  },
  {
   "cell_type": "code",
   "execution_count": 4,
   "id": "9e085b36-e218-466f-ba8b-560a7b2057bc",
   "metadata": {},
   "outputs": [
    {
     "data": {
      "image/png": "[encoded data removed]",
      "text/plain": [
       "<PIL.TiffImagePlugin.TiffImageFile image mode=P size=304x448>"
      ]
     },
     "execution_count": 4,
     "metadata": {},
     "output_type": "execute_result"
    }
   ],
   "source": [
    "# Visualize the first image in the dataset\n",
    "path = os.path.join(\"Data\", \"SeaIce\", \"September\")\n",
    "files = os.listdir(path)\n",
    "Image.open(os.path.join(path,files[0]))"
   ]
  },
  {
   "cell_type": "markdown",
   "id": "f5ca2149",
   "metadata": {},
   "source": [
    "Access all image files available for September:"
   ]
  },
  {
   "cell_type": "code",
   "execution_count": 5,
   "id": "9d5777c5",
   "metadata": {},
   "outputs": [],
   "source": [
    "path = \"Data/SeaIce/September/*.*\"\n",
    "count = 0\n",
    "data = []\n",
    "iceArea1 = []\n",
    "for file in glob.glob(path):\n",
    "    #Let's read each image file\n",
    "    a = cv.imread(file,-1)\n",
    "    #Convert to the appropriate space color\n",
    "    c = cv.cvtColor(a, cv.COLOR_BGR2RGB)\n",
    "    #Calculate the number of white pixels in the image\n",
    "    number_of_white_pix = np.sum(c == 255)\n",
    "    iceArea1.append((number_of_white_pix*25)^2)\n",
    "    count += 1"
   ]
  },
  {
   "cell_type": "code",
   "execution_count": 6,
   "id": "a0b8fb39",
   "metadata": {},
   "outputs": [
    {
     "data": {
      "text/plain": [
       "list"
      ]
     },
     "execution_count": 6,
     "metadata": {},
     "output_type": "execute_result"
    }
   ],
   "source": [
    "type(iceArea1)"
   ]
  },
  {
   "cell_type": "code",
   "execution_count": 7,
   "id": "8aff0749-bfa4-4e4b-80fa-87aa1e6171f6",
   "metadata": {},
   "outputs": [
    {
     "data": {
      "text/plain": [
       "np.int64(555148)"
      ]
     },
     "execution_count": 7,
     "metadata": {},
     "output_type": "execute_result"
    }
   ],
   "source": [
    "iceArea1[0]"
   ]
  },
  {
   "cell_type": "code",
   "execution_count": 8,
   "id": "d800e157",
   "metadata": {},
   "outputs": [
    {
     "data": {
      "text/plain": [
       "array([1979, 1980, 1981, 1982, 1983, 1984, 1985, 1986, 1987, 1988, 1989,\n",
       "       1990, 1991, 1992, 1993, 1994, 1995, 1996, 1997, 1998, 1999, 2000,\n",
       "       2001, 2002, 2003, 2004, 2005, 2006, 2007, 2008, 2009, 2010, 2011,\n",
       "       2012, 2013, 2014, 2015, 2016, 2017, 2018, 2019, 2020, 2021])"
      ]
     },
     "execution_count": 8,
     "metadata": {},
     "output_type": "execute_result"
    }
   ],
   "source": [
    "years = np.arange(1979,2022)\n",
    "years"
   ]
  },
  {
   "cell_type": "markdown",
   "id": "a26b6155",
   "metadata": {},
   "source": [
    "## Using MATLAB to perform additional tasks "
   ]
  },
  {
   "cell_type": "markdown",
   "id": "32bcfdb4",
   "metadata": {},
   "source": [
    "When you are using the Python kernel in Jupyter and want to use MATLAB, first import and start MATLAB through the MATLAB Engine API"
   ]
  },
  {
   "cell_type": "code",
   "execution_count": 9,
   "id": "01ed7214",
   "metadata": {},
   "outputs": [],
   "source": [
    "import matlab.engine"
   ]
  },
  {
   "cell_type": "markdown",
   "id": "6d4eb46c",
   "metadata": {},
   "source": [
    "<div class=\"alert alert-block alert-warning\">\n",
    "<b>Note:</b> You can start the MATLAB Engine by simply doing eng = matlab.engine.start_matlab(). However, in order to use the existing MATLAB session running, follow the instructions below and update the engineName before running the next cell. \n",
    "</div>"
   ]
  },
  {
   "cell_type": "code",
   "execution_count": 10,
   "id": "4c1e336c",
   "metadata": {},
   "outputs": [],
   "source": [
    "# Get the MATLAB Engine session that you can use to connect\n",
    "# In MATLAB command prompt type:\n",
    "#  >> matlab.engine.shareEngine\n",
    "#  >> matlab.engine.engineName\n",
    "# ans =\n",
    "#\n",
    "#    'MATLAB_42516'\n",
    "# MAKE SURE TO UPDATE THIS, OTHERWISE IT WON'T CONNECT\n",
    "\n",
    "eng = matlab.engine.connect_matlab('MATLAB_5644')"
   ]
  },
  {
   "cell_type": "code",
   "execution_count": 11,
   "id": "d6f19b29",
   "metadata": {},
   "outputs": [
    {
     "data": {
      "text/plain": [
       "matlab.double([[1979.0],[1980.0],[1981.0],[1982.0],[1983.0],[1984.0],[1985.0],[1986.0],[1987.0],[1988.0],[1989.0],[1990.0],[1991.0],[1992.0],[1993.0],[1994.0],[1995.0],[1996.0],[1997.0],[1998.0],[1999.0],[2000.0],[2001.0],[2002.0],[2003.0],[2004.0],[2005.0],[2006.0],[2007.0],[2008.0],[2009.0],[2010.0],[2011.0],[2012.0],[2013.0],[2014.0],[2015.0],[2016.0],[2017.0],[2018.0],[2019.0],[2020.0],[2021.0]])"
      ]
     },
     "execution_count": 11,
     "metadata": {},
     "output_type": "execute_result"
    }
   ],
   "source": [
    "# Convert the numpy array to the right format \n",
    "yearsfit  = eng.transpose(eng.double(years))\n",
    "yearsfit"
   ]
  },
  {
   "cell_type": "markdown",
   "id": "44e2b311",
   "metadata": {},
   "source": [
    "Make sure lists are converted to arrays before attempting a data conversion"
   ]
  },
  {
   "cell_type": "code",
   "execution_count": 12,
   "id": "f94671d9",
   "metadata": {
    "tags": []
   },
   "outputs": [
    {
     "data": {
      "text/plain": [
       "matlab.int64([[555148],[835202],[615527],[859202],[542473],[779927],[875702],[833248],[698927],[819973],[752027],[686473],[642602],[871727],[800102],[906827],[530473],[780827],[607727],[503702],[682948],[542102],[560548],[575627],[731627],[913202],[866248],[618073],[495373],[721273],[761248],[564827],[758848],[835348],[536248],[870902],[710248],[868048],[711227],[462902],[414673],[723448],[814727]])"
      ]
     },
     "execution_count": 12,
     "metadata": {},
     "output_type": "execute_result"
    }
   ],
   "source": [
    "iceAreafit = eng.transpose(np.array(iceArea1))\n",
    "iceAreafit"
   ]
  },
  {
   "cell_type": "markdown",
   "id": "31bf3f7c",
   "metadata": {},
   "source": [
    "Call the curve fitting app:"
   ]
  },
  {
   "cell_type": "code",
   "execution_count": 13,
   "id": "19cf6218",
   "metadata": {},
   "outputs": [],
   "source": [
    "iceFit = eng.curveFitter(yearsfit,iceAreafit)"
   ]
  },
  {
   "cell_type": "markdown",
   "id": "53baa787",
   "metadata": {},
   "source": [
    "Make sure you perform the curve fitting operation in the App. Then export to workspace. Assuming your variable is called 'fittedmodel', obtain the coefficients for the resulting curve fit "
   ]
  },
  {
   "cell_type": "code",
   "execution_count": 14,
   "id": "528a5d2f",
   "metadata": {},
   "outputs": [
    {
     "data": {
      "text/plain": [
       "array([[-1.49216596e+03,  3.68753032e+06]])"
      ]
     },
     "execution_count": 14,
     "metadata": {},
     "output_type": "execute_result"
    }
   ],
   "source": [
    "coeffvalues = eng.coeffvalues(eng.workspace['fittedmodel'])\n",
    "coeffvaluesF = np.array(coeffvalues)\n",
    "coeffvaluesF"
   ]
  },
  {
   "cell_type": "markdown",
   "id": "3309ad5f",
   "metadata": {},
   "source": [
    "Another alternative: Generate a function and save it in the same folder where you have your script. \n"
   ]
  },
  {
   "cell_type": "markdown",
   "id": "57c75714",
   "metadata": {},
   "source": [
    "You should notice that it contains a linear model $p1*x + p2$. The coefficients p1 and p2 are stored in fields of the object. In which year does the linear trend predict zero ice area? You can calculate this by setting the linear function to zero $(p1*x + p2 = 0)$ and then solving for the value of x (which, in this case, represents the year when the ice area is predicted to be zero). "
   ]
  },
  {
   "cell_type": "code",
   "execution_count": null,
   "id": "673dc861",
   "metadata": {},
   "outputs": [],
   "source": [
    "vanishYear = -coeffvaluesF[0,1]/coeffvaluesF[0,0]\n",
    "vanishYear"
   ]
  },
  {
   "cell_type": "markdown",
   "id": "4916a9b2",
   "metadata": {},
   "source": [
    "> So, if the trend continues, **ice in the artic could be gone by year 2072!**"
   ]
  },
  {
   "cell_type": "markdown",
   "id": "e915bb20",
   "metadata": {},
   "source": [
    "### Using datastores in MATLAB "
   ]
  },
  {
   "cell_type": "code",
   "execution_count": 18,
   "id": "5fa932f0-8137-4857-964c-2306d750db6d",
   "metadata": {},
   "outputs": [
    {
     "data": {
      "text/plain": [
       "'/workspaces/codespaces-jupyter-matlab/notebooks/Exercise1'"
      ]
     },
     "execution_count": 18,
     "metadata": {},
     "output_type": "execute_result"
    }
   ],
   "source": [
    "eng.pwd()"
   ]
  },
  {
   "cell_type": "code",
   "execution_count": 19,
   "id": "6fb2261e-8b94-43b7-9c29-1203e86cbc7f",
   "metadata": {},
   "outputs": [
    {
     "data": {
      "text/plain": [
       "'/workspaces/codespaces-jupyter-matlab/notebooks/Exercise1'"
      ]
     },
     "execution_count": 19,
     "metadata": {},
     "output_type": "execute_result"
    }
   ],
   "source": [
    "eng.cd('/workspaces/codespaces-jupyter-matlab/notebooks/Exercise1')"
   ]
  },
  {
   "cell_type": "code",
   "execution_count": 20,
   "id": "8f1449d8",
   "metadata": {},
   "outputs": [],
   "source": [
    "ds_Sep = eng.datastore(\"Data/SeaIce/September\")\n",
    "# copy variable to MATLAB workspace so we can use it\n",
    "eng.workspace[\"ds_SepF\"] = ds_Sep "
   ]
  },
  {
   "cell_type": "markdown",
   "id": "b64db38f",
   "metadata": {},
   "source": [
    "Get the number of files inside the datastore:"
   ]
  },
  {
   "cell_type": "code",
   "execution_count": 21,
   "id": "1e2d7644",
   "metadata": {},
   "outputs": [
    {
     "data": {
      "text/plain": [
       "43.0"
      ]
     },
     "execution_count": 21,
     "metadata": {},
     "output_type": "execute_result"
    }
   ],
   "source": [
    "NFiles = eng.numel(eng.eval(\"ds_SepF.Files\"))\n",
    "NFiles"
   ]
  },
  {
   "cell_type": "code",
   "execution_count": 86,
   "id": "bad39308",
   "metadata": {},
   "outputs": [],
   "source": [
    "# Task: Attempt the same curve fiting task using datastores"
   ]
  },
  {
   "cell_type": "markdown",
   "id": "e93d4ea0",
   "metadata": {},
   "source": [
    "<div class=\"alert alert-block alert-info\">\n",
    "<b>Final Note:</b> Do you want to see the full example in MATLAB? Check this existing Courseware on <a href=https://www.mathworks.com/matlabcentral/fileexchange/110125-climate-data-visualization-and-analysis>Climate Data Visualization and Analysis</a>  </div>"
   ]
  }
 ],
 "metadata": {
  "kernelspec": {
   "display_name": "Python 3 (ipykernel)",
   "language": "python",
   "name": "python3"
  },
  "language_info": {
   "codemirror_mode": {
    "name": "ipython",
    "version": 3
   },
   "file_extension": ".py",
   "mimetype": "text/x-python",
   "name": "python",
   "nbconvert_exporter": "python",
   "pygments_lexer": "ipython3",
   "version": "3.10.12"
  }
 },
 "nbformat": 4,
 "nbformat_minor": 5
}

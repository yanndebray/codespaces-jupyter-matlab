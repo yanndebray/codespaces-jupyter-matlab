{
 "cells": [
  {
   "cell_type": "code",
   "execution_count": 2,
   "metadata": {
    "metadata": {}
   },
   "outputs": [
    {
     "data": {
      "text/plain": [
       "{'lhs': [[[17, 24, 1, 8, 15],\n",
       "   [23, 5, 7, 14, 16],\n",
       "   [4, 6, 13, 20, 22],\n",
       "   [10, 12, 19, 21, 3],\n",
       "   [11, 18, 25, 2, 9]]]}"
      ]
     },
     "execution_count": 2,
     "metadata": {},
     "output_type": "execute_result"
    }
   ],
   "source": [
    "import requests,json\n",
    "# print(Token)\n",
    "url = 'http://localhost:9910/MagicServerArchive/mymagic'\n",
    "payload = {\n",
    "    \"rhs\": [5.0],\n",
    "    \"nargout\": 1,\n",
    "    \"outputFormat\": {\n",
    "        \"mode\": \"small\",\n",
    "        \"nanType\": \"string\"\n",
    "    }\n",
    "}\n",
    "headers = {\n",
    "    'Content-Type': 'application/json',\n",
    "}\n",
    "res = requests.post(url, json=payload, headers=headers)\n",
    "res.json()"
   ]
  }
 ],
 "metadata": {
  "kernelspec": {
   "display_name": "Python 3",
   "language": "python",
   "name": "python3"
  },
  "language_info": {
   "codemirror_mode": {
    "name": "ipython",
    "version": 3
   },
   "file_extension": ".py",
   "mimetype": "text/x-python",
   "name": "python",
   "nbconvert_exporter": "python",
   "pygments_lexer": "ipython3",
   "version": "3.10.6"
  }
 },
 "nbformat": 4,
 "nbformat_minor": 2
}
